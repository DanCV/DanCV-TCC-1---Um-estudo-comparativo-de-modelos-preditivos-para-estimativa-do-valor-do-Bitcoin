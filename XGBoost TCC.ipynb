{
 "cells": [
  {
   "cell_type": "code",
   "execution_count": 5,
   "metadata": {},
   "outputs": [],
   "source": [
    "import numpy as np \n",
    "import pandas as pd \n",
    "import seaborn as sns\n",
    "import matplotlib.pyplot as plt\n",
    "import xgboost as xgb\n",
    "from xgboost import plot_importance, plot_tree\n",
    "from math import sqrt\n",
    "from sklearn.metrics import mean_squared_error ,mean_absolute_error,explained_variance_score,mean_squared_log_error,r2_score,f1_score\n",
    "from sklearn.model_selection import train_test_split\n",
    "%matplotlib inline"
   ]
  },
  {
   "cell_type": "code",
   "execution_count": 6,
   "metadata": {},
   "outputs": [],
   "source": [
    "data = pd.read_csv('../Files tcc/data.csv',index_col=['Data'])"
   ]
  },
  {
   "cell_type": "code",
   "execution_count": 22,
   "metadata": {},
   "outputs": [
    {
     "data": {
      "text/html": [
       "<div>\n",
       "<style scoped>\n",
       "    .dataframe tbody tr th:only-of-type {\n",
       "        vertical-align: middle;\n",
       "    }\n",
       "\n",
       "    .dataframe tbody tr th {\n",
       "        vertical-align: top;\n",
       "    }\n",
       "\n",
       "    .dataframe thead th {\n",
       "        text-align: right;\n",
       "    }\n",
       "</style>\n",
       "<table border=\"1\" class=\"dataframe\">\n",
       "  <thead>\n",
       "    <tr style=\"text-align: right;\">\n",
       "      <th></th>\n",
       "      <th>Fechamento</th>\n",
       "    </tr>\n",
       "    <tr>\n",
       "      <th>Data</th>\n",
       "      <th></th>\n",
       "    </tr>\n",
       "  </thead>\n",
       "  <tbody>\n",
       "    <tr>\n",
       "      <th>01-01-2015</th>\n",
       "      <td>314.25</td>\n",
       "    </tr>\n",
       "    <tr>\n",
       "      <th>02-01-2015</th>\n",
       "      <td>315.03</td>\n",
       "    </tr>\n",
       "    <tr>\n",
       "      <th>03-01-2015</th>\n",
       "      <td>281.08</td>\n",
       "    </tr>\n",
       "    <tr>\n",
       "      <th>04-01-2015</th>\n",
       "      <td>264.20</td>\n",
       "    </tr>\n",
       "    <tr>\n",
       "      <th>05-01-2015</th>\n",
       "      <td>274.47</td>\n",
       "    </tr>\n",
       "  </tbody>\n",
       "</table>\n",
       "</div>"
      ],
      "text/plain": [
       "            Fechamento\n",
       "Data                  \n",
       "01-01-2015      314.25\n",
       "02-01-2015      315.03\n",
       "03-01-2015      281.08\n",
       "04-01-2015      264.20\n",
       "05-01-2015      274.47"
      ]
     },
     "execution_count": 22,
     "metadata": {},
     "output_type": "execute_result"
    }
   ],
   "source": [
    "data.head()\n"
   ]
  },
  {
   "cell_type": "code",
   "execution_count": 23,
   "metadata": {},
   "outputs": [
    {
     "data": {
      "image/png": "[encoded data removed]",
      "text/plain": [
       "<Figure size 432x288 with 1 Axes>"
      ]
     },
     "metadata": {
      "needs_background": "light"
     },
     "output_type": "display_data"
    }
   ],
   "source": [
    "data.plot()\n",
    "plt.xticks(rotation=20)\n",
    "plt.savefig('Data.png')"
   ]
  },
  {
   "cell_type": "code",
   "execution_count": 9,
   "metadata": {},
   "outputs": [],
   "source": [
    "df = data[['Fechamento']]\n",
    "dataset = df.values\n",
    "dataset = dataset.astype('float32')"
   ]
  },
  {
   "cell_type": "code",
   "execution_count": 10,
   "metadata": {},
   "outputs": [
    {
     "name": "stdout",
     "output_type": "stream",
     "text": [
      "1145 564\n"
     ]
    }
   ],
   "source": [
    "train_size = int(len(dataset)*0.67)\n",
    "teste_size = len(dataset) - train_size\n",
    "train,test = dataset[0:train_size,:],dataset[train_size:len(dataset),:]\n",
    "print(len(train), len(test))"
   ]
  },
  {
   "cell_type": "code",
   "execution_count": 11,
   "metadata": {},
   "outputs": [],
   "source": [
    "def create_dataset(dataset, look_back=1):\n",
    "  dataX, dataY = [], []\n",
    "  for i in range(len(dataset)-look_back-1):\n",
    "    a = dataset[i:(i+look_back), 0]\n",
    "    dataX.append(a)\n",
    "    dataY.append(dataset[i + look_back, 0])\n",
    "  return np.array(dataX), np.array(dataY)"
   ]
  },
  {
   "cell_type": "code",
   "execution_count": 12,
   "metadata": {},
   "outputs": [],
   "source": [
    "def antes(dataset,look_back=1):\n",
    "    dia_atras = []\n",
    "    for i in range(len(dataset)-look_back-1):\n",
    "        dia_atras.append(dataset[i-1+look_back, 0])\n",
    "    \n",
    "    return np.array(dia_atras)"
   ]
  },
  {
   "cell_type": "code",
   "execution_count": 13,
   "metadata": {},
   "outputs": [
    {
     "name": "stdout",
     "output_type": "stream",
     "text": [
      "1141 1141 560 560 560\n"
     ]
    }
   ],
   "source": [
    "look_back=3\n",
    "trainX, trainY = create_dataset(train, look_back=look_back)\n",
    "testX, testY = create_dataset(test,look_back=look_back)\n",
    "dia_atras = antes(test,look_back=look_back)\n",
    "print(len(trainX),len(trainY),len(testX),len(testY),len(dia_atras))"
   ]
  },
  {
   "cell_type": "code",
   "execution_count": 14,
   "metadata": {},
   "outputs": [
    {
     "name": "stdout",
     "output_type": "stream",
     "text": [
      "[16:56:07] WARNING: src/objective/regression_obj.cu:152: reg:linear is now deprecated in favor of reg:squarederror.\n"
     ]
    },
    {
     "data": {
      "text/plain": [
       "XGBRegressor(base_score=0.5, booster='gbtree', colsample_bylevel=1,\n",
       "             colsample_bynode=1, colsample_bytree=1, gamma=0,\n",
       "             importance_type='gain', learning_rate=0.1, max_delta_step=0,\n",
       "             max_depth=3, min_child_weight=1, missing=None, n_estimators=1000,\n",
       "             n_jobs=1, nthread=None, objective='reg:linear', random_state=0,\n",
       "             reg_alpha=0, reg_lambda=1, scale_pos_weight=1, seed=None,\n",
       "             silent=None, subsample=1, verbosity=1)"
      ]
     },
     "execution_count": 14,
     "metadata": {},
     "output_type": "execute_result"
    }
   ],
   "source": [
    "regressor = xgb.XGBRegressor(n_estimators=1000)\n",
    "regressor.fit(trainX, trainY,eval_set=[(trainX, trainY), (testX, testY)],early_stopping_rounds=50,verbose=False)"
   ]
  },
  {
   "cell_type": "code",
   "execution_count": 15,
   "metadata": {},
   "outputs": [],
   "source": [
    "predicao = regressor.predict(testX)"
   ]
  },
  {
   "cell_type": "code",
   "execution_count": 16,
   "metadata": {},
   "outputs": [],
   "source": [
    "def mean_absolute_percentage_error(y_true, y_pred): \n",
    "    \"\"\"Calculates MAPE given y_true and y_pred\"\"\"\n",
    "    y_true, y_pred = np.array(y_true), np.array(y_pred)\n",
    "    return np.mean(np.abs((y_true - y_pred) / y_true)) * 100"
   ]
  },
  {
   "cell_type": "code",
   "execution_count": 17,
   "metadata": {},
   "outputs": [],
   "source": [
    "resultado = pd.DataFrame(testY,columns=['Esperado'])\n",
    "resultado['Predito'] = predicao\n",
    "resultado.index = data.tail(560).index"
   ]
  },
  {
   "cell_type": "code",
   "execution_count": 18,
   "metadata": {
    "scrolled": true
   },
   "outputs": [
    {
     "name": "stdout",
     "output_type": "stream",
     "text": [
      "XGBOOST\n",
      "MAPE: 96.287\n",
      "Desvio: 3.713\n",
      "MSE: 151249.656\n",
      "RMSE: 388.908\n",
      "MAE: 269.842\n",
      "MSLE: 0.002\n",
      "R2 score: 97.283\n",
      "Explaine Variance Score: 97.286\n"
     ]
    },
    {
     "data": {
      "image/png": "[encoded data removed]",
      "text/plain": [
       "<Figure size 432x288 with 1 Axes>"
      ]
     },
     "metadata": {
      "needs_background": "light"
     },
     "output_type": "display_data"
    }
   ],
   "source": [
    "print('XGBOOST')\n",
    "print(\"MAPE: %.3f\"%(100-mean_absolute_percentage_error(testY,predicao)))\n",
    "print(\"Desvio: %.3f\"%mean_absolute_percentage_error(testY,predicao))\n",
    "print(\"MSE: %.3f\"%mean_squared_error(testY,predicao))\n",
    "print(\"RMSE: %.3f\"%sqrt(mean_squared_error(testY,predicao)))\n",
    "print(\"MAE: %.3f\"%mean_absolute_error(testY,predicao))\n",
    "print(\"MSLE: %.3f\"%mean_squared_log_error(testY,predicao))\n",
    "print(\"R2 score: %.3f\"%(r2_score(testY,predicao)*100))\n",
    "print(\"Explaine Variance Score: %.3f\"%(explained_variance_score(testY,predicao)*100))\n",
    "resultado.plot()\n",
    "plt.xticks(rotation=20)\n",
    "plt.title('XGBOOST')\n",
    "plt.savefig('XGBOOST_teste.png')  "
   ]
  },
  {
   "cell_type": "code",
   "execution_count": 19,
   "metadata": {},
   "outputs": [
    {
     "name": "stdout",
     "output_type": "stream",
     "text": [
      "MAPE: 94.597\n",
      "Desvio: 5.403\n",
      "RMSE: 401.103\n",
      "Fechamento [7424.29]\n",
      "Predito [7825.393]\n"
     ]
    },
    {
     "data": {
      "text/plain": [
       "Text(0.5, 1.0, 'Comparação do FechamentoXPredição')"
      ]
     },
     "execution_count": 19,
     "metadata": {},
     "output_type": "execute_result"
    },
    {
     "data": {
      "image/png": "[encoded data removed]",
      "text/plain": [
       "<Figure size 432x288 with 1 Axes>"
      ]
     },
     "metadata": {
      "needs_background": "light"
     },
     "output_type": "display_data"
    }
   ],
   "source": [
    "entrada = np.array([[7463.11,7761.24,7569.63]])\n",
    "fechamentohoje = [7424.29]\n",
    "predicaohoje = regressor.predict(entrada)\n",
    "print(\"MAPE: %.3f\"%(100-mean_absolute_percentage_error(fechamentohoje,predicaohoje)))\n",
    "print(\"Desvio: %.3f\"%mean_absolute_percentage_error(fechamentohoje,predicaohoje))\n",
    "print(\"RMSE: %.3f\"%sqrt(mean_squared_error(fechamentohoje,predicaohoje)))\n",
    "print(\"Fechamento %s\"%fechamentohoje)\n",
    "print(\"Predito %s\"%predicaohoje)\n",
    "\n",
    "vetorgrafico = { \"Predição\": predicaohoje[0] , \"Fechamento hoje\": fechamentohoje[0]}\n",
    "colunas = [i for i in vetorgrafico.keys()]\n",
    "valor = [j for j in vetorgrafico.values()]\n",
    "popPos = np.arange(len(colunas))\n",
    "plt.barh(popPos, valor, align='center', color='blue')\n",
    "plt.yticks(popPos, colunas)\n",
    "plt.xlabel('Valores')\n",
    "plt.title('Comparação do FechamentoXPredição')"
   ]
  },
  {
   "cell_type": "code",
   "execution_count": null,
   "metadata": {},
   "outputs": [],
   "source": []
  }
 ],
 "metadata": {
  "kernelspec": {
   "display_name": "Python 3",
   "language": "python",
   "name": "python3"
  },
  "language_info": {
   "codemirror_mode": {
    "name": "ipython",
    "version": 3
   },
   "file_extension": ".py",
   "mimetype": "text/x-python",
   "name": "python",
   "nbconvert_exporter": "python",
   "pygments_lexer": "ipython3",
   "version": "3.7.6"
  }
 },
 "nbformat": 4,
 "nbformat_minor": 2
}
