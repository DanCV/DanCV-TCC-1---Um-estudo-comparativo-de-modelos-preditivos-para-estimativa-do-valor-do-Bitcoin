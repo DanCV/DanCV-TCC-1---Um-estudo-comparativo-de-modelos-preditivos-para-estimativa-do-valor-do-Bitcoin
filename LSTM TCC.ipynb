{
 "cells": [
  {
   "cell_type": "code",
   "execution_count": 1,
   "metadata": {
    "scrolled": true
   },
   "outputs": [
    {
     "name": "stderr",
     "output_type": "stream",
     "text": [
      "Using TensorFlow backend.\n",
      "D:\\Python\\lib\\site-packages\\tensorflow\\python\\framework\\dtypes.py:516: FutureWarning: Passing (type, 1) or '1type' as a synonym of type is deprecated; in a future version of numpy, it will be understood as (type, (1,)) / '(1,)type'.\n",
      "  _np_qint8 = np.dtype([(\"qint8\", np.int8, 1)])\n",
      "D:\\Python\\lib\\site-packages\\tensorflow\\python\\framework\\dtypes.py:517: FutureWarning: Passing (type, 1) or '1type' as a synonym of type is deprecated; in a future version of numpy, it will be understood as (type, (1,)) / '(1,)type'.\n",
      "  _np_quint8 = np.dtype([(\"quint8\", np.uint8, 1)])\n",
      "D:\\Python\\lib\\site-packages\\tensorflow\\python\\framework\\dtypes.py:518: FutureWarning: Passing (type, 1) or '1type' as a synonym of type is deprecated; in a future version of numpy, it will be understood as (type, (1,)) / '(1,)type'.\n",
      "  _np_qint16 = np.dtype([(\"qint16\", np.int16, 1)])\n",
      "D:\\Python\\lib\\site-packages\\tensorflow\\python\\framework\\dtypes.py:519: FutureWarning: Passing (type, 1) or '1type' as a synonym of type is deprecated; in a future version of numpy, it will be understood as (type, (1,)) / '(1,)type'.\n",
      "  _np_quint16 = np.dtype([(\"quint16\", np.uint16, 1)])\n",
      "D:\\Python\\lib\\site-packages\\tensorflow\\python\\framework\\dtypes.py:520: FutureWarning: Passing (type, 1) or '1type' as a synonym of type is deprecated; in a future version of numpy, it will be understood as (type, (1,)) / '(1,)type'.\n",
      "  _np_qint32 = np.dtype([(\"qint32\", np.int32, 1)])\n",
      "D:\\Python\\lib\\site-packages\\tensorflow\\python\\framework\\dtypes.py:525: FutureWarning: Passing (type, 1) or '1type' as a synonym of type is deprecated; in a future version of numpy, it will be understood as (type, (1,)) / '(1,)type'.\n",
      "  np_resource = np.dtype([(\"resource\", np.ubyte, 1)])\n",
      "D:\\Python\\lib\\site-packages\\tensorboard\\compat\\tensorflow_stub\\dtypes.py:541: FutureWarning: Passing (type, 1) or '1type' as a synonym of type is deprecated; in a future version of numpy, it will be understood as (type, (1,)) / '(1,)type'.\n",
      "  _np_qint8 = np.dtype([(\"qint8\", np.int8, 1)])\n",
      "D:\\Python\\lib\\site-packages\\tensorboard\\compat\\tensorflow_stub\\dtypes.py:542: FutureWarning: Passing (type, 1) or '1type' as a synonym of type is deprecated; in a future version of numpy, it will be understood as (type, (1,)) / '(1,)type'.\n",
      "  _np_quint8 = np.dtype([(\"quint8\", np.uint8, 1)])\n",
      "D:\\Python\\lib\\site-packages\\tensorboard\\compat\\tensorflow_stub\\dtypes.py:543: FutureWarning: Passing (type, 1) or '1type' as a synonym of type is deprecated; in a future version of numpy, it will be understood as (type, (1,)) / '(1,)type'.\n",
      "  _np_qint16 = np.dtype([(\"qint16\", np.int16, 1)])\n",
      "D:\\Python\\lib\\site-packages\\tensorboard\\compat\\tensorflow_stub\\dtypes.py:544: FutureWarning: Passing (type, 1) or '1type' as a synonym of type is deprecated; in a future version of numpy, it will be understood as (type, (1,)) / '(1,)type'.\n",
      "  _np_quint16 = np.dtype([(\"quint16\", np.uint16, 1)])\n",
      "D:\\Python\\lib\\site-packages\\tensorboard\\compat\\tensorflow_stub\\dtypes.py:545: FutureWarning: Passing (type, 1) or '1type' as a synonym of type is deprecated; in a future version of numpy, it will be understood as (type, (1,)) / '(1,)type'.\n",
      "  _np_qint32 = np.dtype([(\"qint32\", np.int32, 1)])\n",
      "D:\\Python\\lib\\site-packages\\tensorboard\\compat\\tensorflow_stub\\dtypes.py:550: FutureWarning: Passing (type, 1) or '1type' as a synonym of type is deprecated; in a future version of numpy, it will be understood as (type, (1,)) / '(1,)type'.\n",
      "  np_resource = np.dtype([(\"resource\", np.ubyte, 1)])\n"
     ]
    }
   ],
   "source": [
    "import numpy as np\n",
    "import pandas as pd\n",
    "import matplotlib.pyplot as plt\n",
    "import math\n",
    "import seaborn as sns\n",
    "\n",
    "from sklearn.preprocessing import MinMaxScaler\n",
    "from math import sqrt\n",
    "from sklearn.metrics import mean_squared_error ,mean_absolute_error,explained_variance_score,mean_squared_log_error,r2_score,f1_score\n",
    "\n",
    "from keras.models import Sequential\n",
    "from keras.layers import Dense\n",
    "from keras.layers import LSTM"
   ]
  },
  {
   "cell_type": "code",
   "execution_count": 2,
   "metadata": {},
   "outputs": [
    {
     "data": {
      "text/html": [
       "<div>\n",
       "<style scoped>\n",
       "    .dataframe tbody tr th:only-of-type {\n",
       "        vertical-align: middle;\n",
       "    }\n",
       "\n",
       "    .dataframe tbody tr th {\n",
       "        vertical-align: top;\n",
       "    }\n",
       "\n",
       "    .dataframe thead th {\n",
       "        text-align: right;\n",
       "    }\n",
       "</style>\n",
       "<table border=\"1\" class=\"dataframe\">\n",
       "  <thead>\n",
       "    <tr style=\"text-align: right;\">\n",
       "      <th></th>\n",
       "      <th>Fechamento</th>\n",
       "    </tr>\n",
       "    <tr>\n",
       "      <th>Data</th>\n",
       "      <th></th>\n",
       "    </tr>\n",
       "  </thead>\n",
       "  <tbody>\n",
       "    <tr>\n",
       "      <th>01-01-2015</th>\n",
       "      <td>314.25</td>\n",
       "    </tr>\n",
       "    <tr>\n",
       "      <th>02-01-2015</th>\n",
       "      <td>315.03</td>\n",
       "    </tr>\n",
       "    <tr>\n",
       "      <th>03-01-2015</th>\n",
       "      <td>281.08</td>\n",
       "    </tr>\n",
       "    <tr>\n",
       "      <th>04-01-2015</th>\n",
       "      <td>264.20</td>\n",
       "    </tr>\n",
       "    <tr>\n",
       "      <th>05-01-2015</th>\n",
       "      <td>274.47</td>\n",
       "    </tr>\n",
       "  </tbody>\n",
       "</table>\n",
       "</div>"
      ],
      "text/plain": [
       "            Fechamento\n",
       "Data                  \n",
       "01-01-2015      314.25\n",
       "02-01-2015      315.03\n",
       "03-01-2015      281.08\n",
       "04-01-2015      264.20\n",
       "05-01-2015      274.47"
      ]
     },
     "execution_count": 2,
     "metadata": {},
     "output_type": "execute_result"
    }
   ],
   "source": [
    "data = pd.read_csv('../Files tcc/data.csv',index_col=['Data'])\n",
    "data.head()"
   ]
  },
  {
   "cell_type": "code",
   "execution_count": 18,
   "metadata": {},
   "outputs": [
    {
     "data": {
      "text/plain": [
       "(array([-250.,    0.,  250.,  500.,  750., 1000., 1250., 1500., 1750.,\n",
       "        2000.]),\n",
       " <a list of 10 Text xticklabel objects>)"
      ]
     },
     "execution_count": 18,
     "metadata": {},
     "output_type": "execute_result"
    },
    {
     "data": {
      "image/png": "[encoded data removed]",
      "text/plain": [
       "<Figure size 432x288 with 1 Axes>"
      ]
     },
     "metadata": {
      "needs_background": "light"
     },
     "output_type": "display_data"
    }
   ],
   "source": [
    "data.plot()\n",
    "plt.xticks(rotation=20)"
   ]
  },
  {
   "cell_type": "code",
   "execution_count": 3,
   "metadata": {},
   "outputs": [
    {
     "data": {
      "text/plain": [
       "array([[  314.25],\n",
       "       [  315.03],\n",
       "       [  281.08],\n",
       "       ...,\n",
       "       [10623.54],\n",
       "       [10594.49],\n",
       "       [10575.53]], dtype=float32)"
      ]
     },
     "execution_count": 3,
     "metadata": {},
     "output_type": "execute_result"
    }
   ],
   "source": [
    "df = data[['Fechamento']]\n",
    "dataset = df.values\n",
    "dataset = dataset.astype('float32')\n",
    "dataset"
   ]
  },
  {
   "cell_type": "code",
   "execution_count": 4,
   "metadata": {},
   "outputs": [],
   "source": [
    "escalonador = MinMaxScaler(feature_range=(0,1))\n",
    "dataset = escalonador.fit_transform(dataset)"
   ]
  },
  {
   "cell_type": "code",
   "execution_count": 5,
   "metadata": {},
   "outputs": [
    {
     "name": "stdout",
     "output_type": "stream",
     "text": [
      "1145 564\n"
     ]
    }
   ],
   "source": [
    "train_size = int(len(dataset)*0.67)\n",
    "teste_size = len(dataset) - train_size\n",
    "train,test = dataset[0:train_size,:],dataset[train_size:len(dataset),:]\n",
    "print(len(train), len(test))"
   ]
  },
  {
   "cell_type": "code",
   "execution_count": 6,
   "metadata": {},
   "outputs": [],
   "source": [
    "def create_dataset(dataset, look_back=1):\n",
    "  dataX, dataY = [], []\n",
    "  for i in range(len(dataset)-look_back-1):\n",
    "    a = dataset[i:(i+look_back), 0]\n",
    "    dataX.append(a)\n",
    "    dataY.append(dataset[i + look_back, 0])\n",
    "  return np.array(dataX), np.array(dataY)"
   ]
  },
  {
   "cell_type": "code",
   "execution_count": 7,
   "metadata": {},
   "outputs": [],
   "source": [
    "def antes(dataset,look_back=1):\n",
    "    dia_atras = []\n",
    "    for i in range(len(dataset)-look_back-1):\n",
    "        dia_atras.append(dataset[i-1+look_back, 0])\n",
    "    \n",
    "    return np.array(dia_atras)"
   ]
  },
  {
   "cell_type": "code",
   "execution_count": 8,
   "metadata": {},
   "outputs": [
    {
     "name": "stdout",
     "output_type": "stream",
     "text": [
      "1141 1141 560 560 560\n"
     ]
    }
   ],
   "source": [
    "look_back=3\n",
    "trainX, trainY = create_dataset(train, look_back=look_back)\n",
    "testX, testY = create_dataset(test,look_back=look_back)\n",
    "dia_atras = antes(test,look_back=look_back)\n",
    "print(len(trainX),len(trainY),len(testX),len(testY),len(dia_atras))"
   ]
  },
  {
   "cell_type": "code",
   "execution_count": 9,
   "metadata": {},
   "outputs": [],
   "source": [
    "trainX = np.reshape(trainX, (trainX.shape[0], 1, trainX.shape[1]))\n",
    "testX = np.reshape(testX, (testX.shape[0], 1, testX.shape[1]))"
   ]
  },
  {
   "cell_type": "code",
   "execution_count": 10,
   "metadata": {},
   "outputs": [
    {
     "name": "stdout",
     "output_type": "stream",
     "text": [
      "WARNING:tensorflow:From D:\\Python\\lib\\site-packages\\keras\\backend\\tensorflow_backend.py:422: The name tf.global_variables is deprecated. Please use tf.compat.v1.global_variables instead.\n",
      "\n",
      "Epoch 1/100\n",
      " - 0s - loss: 0.0453\n",
      "Epoch 2/100\n",
      " - 0s - loss: 0.0433\n",
      "Epoch 3/100\n",
      " - 0s - loss: 0.0412\n",
      "Epoch 4/100\n",
      " - 0s - loss: 0.0393\n",
      "Epoch 5/100\n",
      " - 0s - loss: 0.0377\n",
      "Epoch 6/100\n",
      " - 0s - loss: 0.0360\n",
      "Epoch 7/100\n",
      " - 0s - loss: 0.0346\n",
      "Epoch 8/100\n",
      " - 0s - loss: 0.0333\n",
      "Epoch 9/100\n",
      " - 0s - loss: 0.0321\n",
      "Epoch 10/100\n",
      " - 0s - loss: 0.0312\n",
      "Epoch 11/100\n",
      " - 0s - loss: 0.0302\n",
      "Epoch 12/100\n",
      " - 0s - loss: 0.0293\n",
      "Epoch 13/100\n",
      " - 0s - loss: 0.0285\n",
      "Epoch 14/100\n",
      " - 0s - loss: 0.0278\n",
      "Epoch 15/100\n",
      " - 0s - loss: 0.0270\n",
      "Epoch 16/100\n",
      " - 0s - loss: 0.0263\n",
      "Epoch 17/100\n",
      " - 0s - loss: 0.0256\n",
      "Epoch 18/100\n",
      " - 0s - loss: 0.0248\n",
      "Epoch 19/100\n",
      " - 0s - loss: 0.0241\n",
      "Epoch 20/100\n",
      " - 0s - loss: 0.0234\n",
      "Epoch 21/100\n",
      " - 0s - loss: 0.0226\n",
      "Epoch 22/100\n",
      " - 0s - loss: 0.0218\n",
      "Epoch 23/100\n",
      " - 0s - loss: 0.0210\n",
      "Epoch 24/100\n",
      " - 0s - loss: 0.0202\n",
      "Epoch 25/100\n",
      " - 0s - loss: 0.0194\n",
      "Epoch 26/100\n",
      " - 0s - loss: 0.0186\n",
      "Epoch 27/100\n",
      " - 0s - loss: 0.0178\n",
      "Epoch 28/100\n",
      " - 0s - loss: 0.0169\n",
      "Epoch 29/100\n",
      " - 0s - loss: 0.0161\n",
      "Epoch 30/100\n",
      " - 0s - loss: 0.0153\n",
      "Epoch 31/100\n",
      " - 0s - loss: 0.0145\n",
      "Epoch 32/100\n",
      " - 0s - loss: 0.0136\n",
      "Epoch 33/100\n",
      " - 0s - loss: 0.0129\n",
      "Epoch 34/100\n",
      " - 0s - loss: 0.0121\n",
      "Epoch 35/100\n",
      " - 0s - loss: 0.0113\n",
      "Epoch 36/100\n",
      " - 0s - loss: 0.0106\n",
      "Epoch 37/100\n",
      " - 0s - loss: 0.0099\n",
      "Epoch 38/100\n",
      " - 0s - loss: 0.0092\n",
      "Epoch 39/100\n",
      " - 0s - loss: 0.0085\n",
      "Epoch 40/100\n",
      " - 0s - loss: 0.0078\n",
      "Epoch 41/100\n",
      " - 0s - loss: 0.0072\n",
      "Epoch 42/100\n",
      " - 0s - loss: 0.0066\n",
      "Epoch 43/100\n",
      " - 0s - loss: 0.0060\n",
      "Epoch 44/100\n",
      " - 0s - loss: 0.0055\n",
      "Epoch 45/100\n",
      " - 0s - loss: 0.0050\n",
      "Epoch 46/100\n",
      " - 0s - loss: 0.0045\n",
      "Epoch 47/100\n",
      " - 0s - loss: 0.0040\n",
      "Epoch 48/100\n",
      " - 0s - loss: 0.0036\n",
      "Epoch 49/100\n",
      " - 0s - loss: 0.0032\n",
      "Epoch 50/100\n",
      " - 0s - loss: 0.0029\n",
      "Epoch 51/100\n",
      " - 0s - loss: 0.0026\n",
      "Epoch 52/100\n",
      " - 0s - loss: 0.0023\n",
      "Epoch 53/100\n",
      " - 0s - loss: 0.0020\n",
      "Epoch 54/100\n",
      " - 0s - loss: 0.0018\n",
      "Epoch 55/100\n",
      " - 0s - loss: 0.0016\n",
      "Epoch 56/100\n",
      " - 0s - loss: 0.0014\n",
      "Epoch 57/100\n",
      " - 0s - loss: 0.0012\n",
      "Epoch 58/100\n",
      " - 0s - loss: 0.0011\n",
      "Epoch 59/100\n",
      " - 0s - loss: 9.8178e-04\n",
      "Epoch 60/100\n",
      " - 0s - loss: 8.7499e-04\n",
      "Epoch 61/100\n",
      " - 0s - loss: 7.8011e-04\n",
      "Epoch 62/100\n",
      " - 0s - loss: 7.0929e-04\n",
      "Epoch 63/100\n",
      " - 0s - loss: 6.3801e-04\n",
      "Epoch 64/100\n",
      " - 0s - loss: 5.8386e-04\n",
      "Epoch 65/100\n",
      " - 0s - loss: 5.3712e-04\n",
      "Epoch 66/100\n",
      " - 0s - loss: 4.9974e-04\n",
      "Epoch 67/100\n",
      " - 0s - loss: 4.6655e-04\n",
      "Epoch 68/100\n",
      " - 0s - loss: 4.4135e-04\n",
      "Epoch 69/100\n",
      " - 0s - loss: 4.1920e-04\n",
      "Epoch 70/100\n",
      " - 0s - loss: 4.0273e-04\n",
      "Epoch 71/100\n",
      " - 0s - loss: 3.8672e-04\n",
      "Epoch 72/100\n",
      " - 0s - loss: 3.7592e-04\n",
      "Epoch 73/100\n",
      " - 0s - loss: 3.6707e-04\n",
      "Epoch 74/100\n",
      " - 0s - loss: 3.5828e-04\n",
      "Epoch 75/100\n",
      " - 0s - loss: 3.5215e-04\n",
      "Epoch 76/100\n",
      " - 0s - loss: 3.4805e-04\n",
      "Epoch 77/100\n",
      " - 0s - loss: 3.4343e-04\n",
      "Epoch 78/100\n",
      " - 0s - loss: 3.4081e-04\n",
      "Epoch 79/100\n",
      " - 0s - loss: 3.3786e-04\n",
      "Epoch 80/100\n",
      " - 0s - loss: 3.3618e-04\n",
      "Epoch 81/100\n",
      " - 0s - loss: 3.3494e-04\n",
      "Epoch 82/100\n",
      " - 0s - loss: 3.3328e-04\n",
      "Epoch 83/100\n",
      " - 0s - loss: 3.3242e-04\n",
      "Epoch 84/100\n",
      " - 0s - loss: 3.3163e-04\n",
      "Epoch 85/100\n",
      " - 0s - loss: 3.3117e-04\n",
      "Epoch 86/100\n",
      " - 0s - loss: 3.3030e-04\n",
      "Epoch 87/100\n",
      " - 0s - loss: 3.2984e-04\n",
      "Epoch 88/100\n",
      " - 0s - loss: 3.2940e-04\n",
      "Epoch 89/100\n",
      " - 0s - loss: 3.2882e-04\n",
      "Epoch 90/100\n",
      " - 0s - loss: 3.2840e-04\n",
      "Epoch 91/100\n",
      " - 0s - loss: 3.2817e-04\n",
      "Epoch 92/100\n",
      " - 0s - loss: 3.2769e-04\n",
      "Epoch 93/100\n",
      " - 0s - loss: 3.2749e-04\n",
      "Epoch 94/100\n",
      " - 0s - loss: 3.2706e-04\n",
      "Epoch 95/100\n",
      " - 0s - loss: 3.2669e-04\n",
      "Epoch 96/100\n",
      " - 0s - loss: 3.2640e-04\n",
      "Epoch 97/100\n",
      " - 0s - loss: 3.2599e-04\n",
      "Epoch 98/100\n",
      " - 0s - loss: 3.2630e-04\n",
      "Epoch 99/100\n",
      " - 0s - loss: 3.2542e-04\n",
      "Epoch 100/100\n",
      " - 0s - loss: 3.2510e-04\n"
     ]
    },
    {
     "data": {
      "text/plain": [
       "<keras.callbacks.callbacks.History at 0x272b3aa0e08>"
      ]
     },
     "execution_count": 10,
     "metadata": {},
     "output_type": "execute_result"
    }
   ],
   "source": [
    "modelo = Sequential()\n",
    "modelo.add(LSTM(4, input_shape=(1, look_back)))\n",
    "modelo.add(Dense(1))\n",
    "modelo.compile(loss='mean_squared_error', optimizer='adam')\n",
    "modelo.fit(trainX, trainY, epochs=100, batch_size=256, verbose=2)"
   ]
  },
  {
   "cell_type": "code",
   "execution_count": 11,
   "metadata": {},
   "outputs": [],
   "source": [
    "trainPredicao = modelo.predict(trainX)\n",
    "testPredicao = modelo.predict(testX)"
   ]
  },
  {
   "cell_type": "code",
   "execution_count": 12,
   "metadata": {},
   "outputs": [
    {
     "name": "stdout",
     "output_type": "stream",
     "text": [
      "[11206.221]\n"
     ]
    }
   ],
   "source": [
    "trainPredicao = escalonador.inverse_transform(trainPredicao)\n",
    "trainY = escalonador.inverse_transform([trainY])\n",
    "testPredicao = escalonador.inverse_transform(testPredicao)\n",
    "testY = escalonador.inverse_transform([testY])\n",
    "print(testPredicao[0])\n",
    "dia_atras = escalonador.inverse_transform([dia_atras])"
   ]
  },
  {
   "cell_type": "code",
   "execution_count": 13,
   "metadata": {},
   "outputs": [
    {
     "name": "stdout",
     "output_type": "stream",
     "text": [
      "Train Score: 348.19 RMSE\n",
      "Test Score: 377.23 RMSE\n",
      "MSE test :142304.705973 \n"
     ]
    }
   ],
   "source": [
    "trainScore = math.sqrt(mean_squared_error(trainY[0], trainPredicao[:, 0]))\n",
    "print('Train Score: %.2f RMSE' % (trainScore))\n",
    "testScore = math.sqrt(mean_squared_error(testY[0], testPredicao[:, 0]))\n",
    "print('Test Score: %.2f RMSE' % (testScore))\n",
    "mse = mean_squared_error(testY[0], testPredicao[:, 0])\n",
    "print('MSE test :%2f ' % (mse))\n",
    "testY = np.reshape(testY,(560,1))\n",
    "dia_atras = np.reshape(dia_atras,(560,1))\n"
   ]
  },
  {
   "cell_type": "code",
   "execution_count": 14,
   "metadata": {},
   "outputs": [],
   "source": [
    "trainPredicaoplot = np.empty_like(dataset)\n",
    "trainPredicaoplot[:, :] = np.nan\n",
    "trainPredicaoplot[look_back:len(trainPredicao) + look_back, :] = trainPredicao"
   ]
  },
  {
   "cell_type": "code",
   "execution_count": 15,
   "metadata": {},
   "outputs": [],
   "source": [
    "def mean_absolute_percentage_error(y_true, y_pred): \n",
    "    \"\"\"Calculates MAPE given y_true and y_pred\"\"\"\n",
    "    y_true, y_pred = np.array(y_true), np.array(y_pred)\n",
    "    return np.mean(np.abs((y_true - y_pred) / y_true)) * 100"
   ]
  },
  {
   "cell_type": "code",
   "execution_count": 16,
   "metadata": {},
   "outputs": [
    {
     "name": "stdout",
     "output_type": "stream",
     "text": [
      "LSTM\n",
      "MAPE: 95.971\n",
      "Desvio: 4.029\n",
      "MSE: 142304.706\n",
      "RMSE: 377.233\n",
      "MAE: 274.395\n",
      "MSLE: 0.003\n",
      "R2 score: 97.444\n",
      "Explaine Variance Score: 97.448\n"
     ]
    },
    {
     "data": {
      "image/png": "[encoded data removed]",
      "text/plain": [
       "<Figure size 432x288 with 1 Axes>"
      ]
     },
     "metadata": {
      "needs_background": "light"
     },
     "output_type": "display_data"
    }
   ],
   "source": [
    "print('LSTM')\n",
    "print(\"MAPE: %.3f\"%(100-mean_absolute_percentage_error(testY,testPredicao)))\n",
    "print('Desvio: %.3f'%mean_absolute_percentage_error(testY,testPredicao))\n",
    "print(\"MSE: %.3f\"%mean_squared_error(testY,testPredicao))\n",
    "print(\"RMSE: %.3f\"%sqrt(mean_squared_error(testY,testPredicao)))\n",
    "print(\"MAE: %.3f\"%mean_absolute_error(testY,testPredicao))\n",
    "print(\"MSLE: %.3f\"%mean_squared_log_error(testY,testPredicao))\n",
    "print(\"R2 score: %.3f\"%(r2_score(testY,testPredicao)*100))\n",
    "print(\"Explaine Variance Score: %.3f\"%(explained_variance_score(testY,testPredicao)*100))\n",
    "resultado = pd.DataFrame(testY,columns=['Esperado'])\n",
    "resultado['Predito'] = testPredicao\n",
    "resultado.index = data.tail(560).index\n",
    "resultado.plot()\n",
    "plt.xticks(rotation=20)\n",
    "plt.title('LSTM')\n",
    "plt.savefig('LSTM_teste.png')   "
   ]
  }
 ],
 "metadata": {
  "kernelspec": {
   "display_name": "Python 3",
   "language": "python",
   "name": "python3"
  },
  "language_info": {
   "codemirror_mode": {
    "name": "ipython",
    "version": 3
   },
   "file_extension": ".py",
   "mimetype": "text/x-python",
   "name": "python",
   "nbconvert_exporter": "python",
   "pygments_lexer": "ipython3",
   "version": "3.7.6"
  }
 },
 "nbformat": 4,
 "nbformat_minor": 2
}
