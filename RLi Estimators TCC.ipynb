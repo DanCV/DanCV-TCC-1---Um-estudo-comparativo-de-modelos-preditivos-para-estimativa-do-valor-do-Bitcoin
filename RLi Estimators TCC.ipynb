{
 "cells": [
  {
   "cell_type": "code",
   "execution_count": 3,
   "metadata": {},
   "outputs": [
    {
     "name": "stderr",
     "output_type": "stream",
     "text": [
      "D:\\Python\\lib\\site-packages\\tensorflow\\python\\framework\\dtypes.py:516: FutureWarning: Passing (type, 1) or '1type' as a synonym of type is deprecated; in a future version of numpy, it will be understood as (type, (1,)) / '(1,)type'.\n",
      "  _np_qint8 = np.dtype([(\"qint8\", np.int8, 1)])\n",
      "D:\\Python\\lib\\site-packages\\tensorflow\\python\\framework\\dtypes.py:517: FutureWarning: Passing (type, 1) or '1type' as a synonym of type is deprecated; in a future version of numpy, it will be understood as (type, (1,)) / '(1,)type'.\n",
      "  _np_quint8 = np.dtype([(\"quint8\", np.uint8, 1)])\n",
      "D:\\Python\\lib\\site-packages\\tensorflow\\python\\framework\\dtypes.py:518: FutureWarning: Passing (type, 1) or '1type' as a synonym of type is deprecated; in a future version of numpy, it will be understood as (type, (1,)) / '(1,)type'.\n",
      "  _np_qint16 = np.dtype([(\"qint16\", np.int16, 1)])\n",
      "D:\\Python\\lib\\site-packages\\tensorflow\\python\\framework\\dtypes.py:519: FutureWarning: Passing (type, 1) or '1type' as a synonym of type is deprecated; in a future version of numpy, it will be understood as (type, (1,)) / '(1,)type'.\n",
      "  _np_quint16 = np.dtype([(\"quint16\", np.uint16, 1)])\n",
      "D:\\Python\\lib\\site-packages\\tensorflow\\python\\framework\\dtypes.py:520: FutureWarning: Passing (type, 1) or '1type' as a synonym of type is deprecated; in a future version of numpy, it will be understood as (type, (1,)) / '(1,)type'.\n",
      "  _np_qint32 = np.dtype([(\"qint32\", np.int32, 1)])\n",
      "D:\\Python\\lib\\site-packages\\tensorflow\\python\\framework\\dtypes.py:525: FutureWarning: Passing (type, 1) or '1type' as a synonym of type is deprecated; in a future version of numpy, it will be understood as (type, (1,)) / '(1,)type'.\n",
      "  np_resource = np.dtype([(\"resource\", np.ubyte, 1)])\n",
      "D:\\Python\\lib\\site-packages\\tensorboard\\compat\\tensorflow_stub\\dtypes.py:541: FutureWarning: Passing (type, 1) or '1type' as a synonym of type is deprecated; in a future version of numpy, it will be understood as (type, (1,)) / '(1,)type'.\n",
      "  _np_qint8 = np.dtype([(\"qint8\", np.int8, 1)])\n",
      "D:\\Python\\lib\\site-packages\\tensorboard\\compat\\tensorflow_stub\\dtypes.py:542: FutureWarning: Passing (type, 1) or '1type' as a synonym of type is deprecated; in a future version of numpy, it will be understood as (type, (1,)) / '(1,)type'.\n",
      "  _np_quint8 = np.dtype([(\"quint8\", np.uint8, 1)])\n",
      "D:\\Python\\lib\\site-packages\\tensorboard\\compat\\tensorflow_stub\\dtypes.py:543: FutureWarning: Passing (type, 1) or '1type' as a synonym of type is deprecated; in a future version of numpy, it will be understood as (type, (1,)) / '(1,)type'.\n",
      "  _np_qint16 = np.dtype([(\"qint16\", np.int16, 1)])\n",
      "D:\\Python\\lib\\site-packages\\tensorboard\\compat\\tensorflow_stub\\dtypes.py:544: FutureWarning: Passing (type, 1) or '1type' as a synonym of type is deprecated; in a future version of numpy, it will be understood as (type, (1,)) / '(1,)type'.\n",
      "  _np_quint16 = np.dtype([(\"quint16\", np.uint16, 1)])\n",
      "D:\\Python\\lib\\site-packages\\tensorboard\\compat\\tensorflow_stub\\dtypes.py:545: FutureWarning: Passing (type, 1) or '1type' as a synonym of type is deprecated; in a future version of numpy, it will be understood as (type, (1,)) / '(1,)type'.\n",
      "  _np_qint32 = np.dtype([(\"qint32\", np.int32, 1)])\n",
      "D:\\Python\\lib\\site-packages\\tensorboard\\compat\\tensorflow_stub\\dtypes.py:550: FutureWarning: Passing (type, 1) or '1type' as a synonym of type is deprecated; in a future version of numpy, it will be understood as (type, (1,)) / '(1,)type'.\n",
      "  np_resource = np.dtype([(\"resource\", np.ubyte, 1)])\n"
     ]
    }
   ],
   "source": [
    "import numpy as np \n",
    "import pandas as pd \n",
    "import seaborn as sns\n",
    "import matplotlib.pyplot as plt\n",
    "from matplotlib import pyplot\n",
    "\n",
    "from math import sqrt\n",
    "from sklearn.metrics import mean_squared_error ,mean_absolute_error,explained_variance_score,mean_squared_log_error,r2_score,f1_score\n",
    "from sklearn.preprocessing import MinMaxScaler\n",
    "\n",
    "%matplotlib inline\n",
    "\n",
    "import tensorflow as tf"
   ]
  },
  {
   "cell_type": "code",
   "execution_count": 4,
   "metadata": {},
   "outputs": [],
   "source": [
    "data = pd.read_csv('../Files tcc/data.csv', index_col=0)"
   ]
  },
  {
   "cell_type": "code",
   "execution_count": 5,
   "metadata": {},
   "outputs": [
    {
     "data": {
      "text/html": [
       "<div>\n",
       "<style scoped>\n",
       "    .dataframe tbody tr th:only-of-type {\n",
       "        vertical-align: middle;\n",
       "    }\n",
       "\n",
       "    .dataframe tbody tr th {\n",
       "        vertical-align: top;\n",
       "    }\n",
       "\n",
       "    .dataframe thead th {\n",
       "        text-align: right;\n",
       "    }\n",
       "</style>\n",
       "<table border=\"1\" class=\"dataframe\">\n",
       "  <thead>\n",
       "    <tr style=\"text-align: right;\">\n",
       "      <th></th>\n",
       "      <th>Fechamento</th>\n",
       "    </tr>\n",
       "    <tr>\n",
       "      <th>Data</th>\n",
       "      <th></th>\n",
       "    </tr>\n",
       "  </thead>\n",
       "  <tbody>\n",
       "    <tr>\n",
       "      <th>01-01-2015</th>\n",
       "      <td>314.25</td>\n",
       "    </tr>\n",
       "    <tr>\n",
       "      <th>02-01-2015</th>\n",
       "      <td>315.03</td>\n",
       "    </tr>\n",
       "    <tr>\n",
       "      <th>03-01-2015</th>\n",
       "      <td>281.08</td>\n",
       "    </tr>\n",
       "    <tr>\n",
       "      <th>04-01-2015</th>\n",
       "      <td>264.20</td>\n",
       "    </tr>\n",
       "    <tr>\n",
       "      <th>05-01-2015</th>\n",
       "      <td>274.47</td>\n",
       "    </tr>\n",
       "  </tbody>\n",
       "</table>\n",
       "</div>"
      ],
      "text/plain": [
       "            Fechamento\n",
       "Data                  \n",
       "01-01-2015      314.25\n",
       "02-01-2015      315.03\n",
       "03-01-2015      281.08\n",
       "04-01-2015      264.20\n",
       "05-01-2015      274.47"
      ]
     },
     "execution_count": 5,
     "metadata": {},
     "output_type": "execute_result"
    }
   ],
   "source": [
    "data.head()"
   ]
  },
  {
   "cell_type": "code",
   "execution_count": 32,
   "metadata": {},
   "outputs": [
    {
     "data": {
      "text/plain": [
       "(array([-250.,    0.,  250.,  500.,  750., 1000., 1250., 1500., 1750.,\n",
       "        2000.]),\n",
       " <a list of 10 Text xticklabel objects>)"
      ]
     },
     "execution_count": 32,
     "metadata": {},
     "output_type": "execute_result"
    },
    {
     "data": {
      "image/png": "[encoded data removed]",
      "text/plain": [
       "<Figure size 432x288 with 1 Axes>"
      ]
     },
     "metadata": {
      "needs_background": "light"
     },
     "output_type": "display_data"
    }
   ],
   "source": [
    "data.plot()\n",
    "plt.xticks(rotation=20)"
   ]
  },
  {
   "cell_type": "code",
   "execution_count": 7,
   "metadata": {},
   "outputs": [],
   "source": [
    "df = data[['Fechamento']]\n",
    "dataset = df.values\n",
    "dataset = dataset.astype('float32')"
   ]
  },
  {
   "cell_type": "code",
   "execution_count": 8,
   "metadata": {},
   "outputs": [
    {
     "name": "stdout",
     "output_type": "stream",
     "text": [
      "INFO:tensorflow:Using default config.\n",
      "WARNING:tensorflow:Using temporary folder as model directory: C:\\Users\\danca\\AppData\\Local\\Temp\\tmpz9bjgmsj\n",
      "INFO:tensorflow:Using config: {'_model_dir': 'C:\\\\Users\\\\danca\\\\AppData\\\\Local\\\\Temp\\\\tmpz9bjgmsj', '_tf_random_seed': None, '_save_summary_steps': 100, '_save_checkpoints_steps': None, '_save_checkpoints_secs': 600, '_session_config': allow_soft_placement: true\n",
      "graph_options {\n",
      "  rewrite_options {\n",
      "    meta_optimizer_iterations: ONE\n",
      "  }\n",
      "}\n",
      ", '_keep_checkpoint_max': 5, '_keep_checkpoint_every_n_hours': 10000, '_log_step_count_steps': 100, '_train_distribute': None, '_device_fn': None, '_protocol': None, '_eval_distribute': None, '_experimental_distribute': None, '_experimental_max_worker_delay_secs': None, '_service': None, '_cluster_spec': <tensorflow.python.training.server_lib.ClusterSpec object at 0x00000163CC350408>, '_task_type': 'worker', '_task_id': 0, '_global_id_in_cluster': 0, '_master': '', '_evaluation_master': '', '_is_chief': True, '_num_ps_replicas': 0, '_num_worker_replicas': 1}\n"
     ]
    }
   ],
   "source": [
    "coluna = [tf.feature_column.numeric_column('x',shape=[1])]\n",
    "regressor = tf.estimator.LinearRegressor(feature_columns=coluna)"
   ]
  },
  {
   "cell_type": "code",
   "execution_count": 9,
   "metadata": {},
   "outputs": [],
   "source": [
    "scaler = MinMaxScaler(feature_range=(0,1))\n",
    "dataset = scaler.fit_transform(dataset)"
   ]
  },
  {
   "cell_type": "code",
   "execution_count": 10,
   "metadata": {},
   "outputs": [
    {
     "name": "stdout",
     "output_type": "stream",
     "text": [
      "1145 564\n"
     ]
    }
   ],
   "source": [
    "train_size = int(len(dataset)*0.67)\n",
    "teste_size = len(dataset) - train_size\n",
    "train,test = dataset[0:train_size,:],dataset[train_size:len(dataset),:]\n",
    "print(len(train), len(test))\n"
   ]
  },
  {
   "cell_type": "code",
   "execution_count": 11,
   "metadata": {},
   "outputs": [],
   "source": [
    "def create_dataset(dataset, look_back=1):\n",
    "  dataX, dataY = [], []\n",
    "  for i in range(len(dataset)-look_back-1):\n",
    "    a = dataset[i:(i+look_back), 0]\n",
    "    dataX.append(a)\n",
    "    dataY.append(dataset[i + look_back, 0])\n",
    "  return np.array(dataX), np.array(dataY)"
   ]
  },
  {
   "cell_type": "code",
   "execution_count": 12,
   "metadata": {},
   "outputs": [],
   "source": [
    "def antes(dataset,look_back=1):\n",
    "    dia_atras = []\n",
    "    for i in range(len(dataset)-look_back-1):\n",
    "        dia_atras.append(dataset[i-1+look_back, 0])\n",
    "    \n",
    "    return np.array(dia_atras)"
   ]
  },
  {
   "cell_type": "code",
   "execution_count": 13,
   "metadata": {},
   "outputs": [
    {
     "data": {
      "text/plain": [
       "562"
      ]
     },
     "execution_count": 13,
     "metadata": {},
     "output_type": "execute_result"
    }
   ],
   "source": [
    "look_back=1\n",
    "trainX, trainY = create_dataset(train, look_back=look_back)\n",
    "testX, testY = create_dataset(test,look_back=look_back)\n",
    "dia_atras = antes(test,look_back=look_back)\n",
    "len(dia_atras)"
   ]
  },
  {
   "cell_type": "code",
   "execution_count": 14,
   "metadata": {},
   "outputs": [],
   "source": [
    "treinamento = tf.estimator.inputs.numpy_input_fn({'x': trainX}, trainY,num_epochs=None,shuffle=True)"
   ]
  },
  {
   "cell_type": "code",
   "execution_count": 15,
   "metadata": {},
   "outputs": [],
   "source": [
    "teste = tf.estimator.inputs.numpy_input_fn({'x':testX}, testY,num_epochs=1000,shuffle=False)"
   ]
  },
  {
   "cell_type": "code",
   "execution_count": 16,
   "metadata": {},
   "outputs": [
    {
     "name": "stdout",
     "output_type": "stream",
     "text": [
      "WARNING:tensorflow:From D:\\Python\\lib\\site-packages\\tensorflow\\python\\training\\training_util.py:236: Variable.initialized_value (from tensorflow.python.ops.variables) is deprecated and will be removed in a future version.\n",
      "Instructions for updating:\n",
      "Use Variable.read_value. Variables in 2.X are initialized automatically both in eager and graph (inside tf.defun) contexts.\n",
      "WARNING:tensorflow:From D:\\Python\\lib\\site-packages\\tensorflow_estimator\\python\\estimator\\inputs\\queues\\feeding_queue_runner.py:62: QueueRunner.__init__ (from tensorflow.python.training.queue_runner_impl) is deprecated and will be removed in a future version.\n",
      "Instructions for updating:\n",
      "To construct input pipelines, use the `tf.data` module.\n",
      "WARNING:tensorflow:From D:\\Python\\lib\\site-packages\\tensorflow_estimator\\python\\estimator\\inputs\\queues\\feeding_functions.py:500: add_queue_runner (from tensorflow.python.training.queue_runner_impl) is deprecated and will be removed in a future version.\n",
      "Instructions for updating:\n",
      "To construct input pipelines, use the `tf.data` module.\n",
      "INFO:tensorflow:Calling model_fn.\n",
      "WARNING:tensorflow:Entity <bound method LinearModel.call of <tensorflow.python.feature_column.feature_column_v2.LinearModel object at 0x00000163CC37DC08>> could not be transformed and will be executed as-is. Please report this to the AutgoGraph team. When filing the bug, set the verbosity to 10 (on Linux, `export AUTOGRAPH_VERBOSITY=10`) and attach the full output. Cause: converting <bound method LinearModel.call of <tensorflow.python.feature_column.feature_column_v2.LinearModel object at 0x00000163CC37DC08>>: AssertionError: Bad argument number for Name: 3, expecting 4\n",
      "WARNING: Entity <bound method LinearModel.call of <tensorflow.python.feature_column.feature_column_v2.LinearModel object at 0x00000163CC37DC08>> could not be transformed and will be executed as-is. Please report this to the AutgoGraph team. When filing the bug, set the verbosity to 10 (on Linux, `export AUTOGRAPH_VERBOSITY=10`) and attach the full output. Cause: converting <bound method LinearModel.call of <tensorflow.python.feature_column.feature_column_v2.LinearModel object at 0x00000163CC37DC08>>: AssertionError: Bad argument number for Name: 3, expecting 4\n",
      "WARNING:tensorflow:Entity <bound method _LinearModelLayer.call of <tensorflow.python.feature_column.feature_column_v2._LinearModelLayer object at 0x00000163CD3CCBC8>> could not be transformed and will be executed as-is. Please report this to the AutgoGraph team. When filing the bug, set the verbosity to 10 (on Linux, `export AUTOGRAPH_VERBOSITY=10`) and attach the full output. Cause: converting <bound method _LinearModelLayer.call of <tensorflow.python.feature_column.feature_column_v2._LinearModelLayer object at 0x00000163CD3CCBC8>>: AssertionError: Bad argument number for Name: 3, expecting 4\n",
      "WARNING: Entity <bound method _LinearModelLayer.call of <tensorflow.python.feature_column.feature_column_v2._LinearModelLayer object at 0x00000163CD3CCBC8>> could not be transformed and will be executed as-is. Please report this to the AutgoGraph team. When filing the bug, set the verbosity to 10 (on Linux, `export AUTOGRAPH_VERBOSITY=10`) and attach the full output. Cause: converting <bound method _LinearModelLayer.call of <tensorflow.python.feature_column.feature_column_v2._LinearModelLayer object at 0x00000163CD3CCBC8>>: AssertionError: Bad argument number for Name: 3, expecting 4\n",
      "WARNING:tensorflow:From D:\\Python\\lib\\site-packages\\tensorflow_estimator\\python\\estimator\\canned\\linear.py:308: to_float (from tensorflow.python.ops.math_ops) is deprecated and will be removed in a future version.\n",
      "Instructions for updating:\n",
      "Use `tf.cast` instead.\n",
      "INFO:tensorflow:Done calling model_fn.\n",
      "INFO:tensorflow:Create CheckpointSaverHook.\n",
      "WARNING:tensorflow:From D:\\Python\\lib\\site-packages\\tensorflow\\python\\ops\\array_ops.py:1354: add_dispatch_support.<locals>.wrapper (from tensorflow.python.ops.array_ops) is deprecated and will be removed in a future version.\n",
      "Instructions for updating:\n",
      "Use tf.where in 2.0, which has the same broadcast rule as np.where\n",
      "INFO:tensorflow:Graph was finalized.\n",
      "INFO:tensorflow:Running local_init_op.\n",
      "INFO:tensorflow:Done running local_init_op.\n",
      "WARNING:tensorflow:From D:\\Python\\lib\\site-packages\\tensorflow\\python\\training\\monitored_session.py:875: start_queue_runners (from tensorflow.python.training.queue_runner_impl) is deprecated and will be removed in a future version.\n",
      "Instructions for updating:\n",
      "To construct input pipelines, use the `tf.data` module.\n",
      "INFO:tensorflow:Saving checkpoints for 0 into C:\\Users\\danca\\AppData\\Local\\Temp\\tmpz9bjgmsj\\model.ckpt.\n",
      "INFO:tensorflow:loss = 3.0034025, step = 1\n",
      "INFO:tensorflow:global_step/sec: 799.207\n",
      "INFO:tensorflow:loss = 0.04611315, step = 101 (0.128 sec)\n",
      "INFO:tensorflow:global_step/sec: 964.104\n",
      "INFO:tensorflow:loss = 0.029021844, step = 201 (0.103 sec)\n",
      "INFO:tensorflow:global_step/sec: 1006.65\n",
      "INFO:tensorflow:loss = 0.028347427, step = 301 (0.098 sec)\n",
      "INFO:tensorflow:global_step/sec: 1047.27\n",
      "INFO:tensorflow:loss = 0.016577, step = 401 (0.096 sec)\n",
      "INFO:tensorflow:global_step/sec: 973.466\n",
      "INFO:tensorflow:loss = 0.031442054, step = 501 (0.103 sec)\n",
      "INFO:tensorflow:global_step/sec: 1023.36\n",
      "INFO:tensorflow:loss = 0.06998688, step = 601 (0.097 sec)\n",
      "INFO:tensorflow:global_step/sec: 1058.49\n",
      "INFO:tensorflow:loss = 0.011775041, step = 701 (0.095 sec)\n",
      "INFO:tensorflow:global_step/sec: 1066.68\n",
      "INFO:tensorflow:loss = 0.012125208, step = 801 (0.094 sec)\n",
      "INFO:tensorflow:global_step/sec: 973.464\n",
      "INFO:tensorflow:loss = 0.009789474, step = 901 (0.103 sec)\n",
      "INFO:tensorflow:global_step/sec: 983.009\n",
      "INFO:tensorflow:loss = 0.010381556, step = 1001 (0.102 sec)\n",
      "INFO:tensorflow:global_step/sec: 964.11\n",
      "INFO:tensorflow:loss = 0.0118667865, step = 1101 (0.104 sec)\n",
      "INFO:tensorflow:global_step/sec: 992.742\n",
      "INFO:tensorflow:loss = 0.044374824, step = 1201 (0.100 sec)\n",
      "INFO:tensorflow:global_step/sec: 1044.46\n",
      "INFO:tensorflow:loss = 0.013263553, step = 1301 (0.097 sec)\n",
      "INFO:tensorflow:global_step/sec: 954.931\n",
      "INFO:tensorflow:loss = 0.017331464, step = 1401 (0.105 sec)\n",
      "INFO:tensorflow:global_step/sec: 983.012\n",
      "INFO:tensorflow:loss = 0.018905317, step = 1501 (0.101 sec)\n",
      "INFO:tensorflow:global_step/sec: 1033.69\n",
      "INFO:tensorflow:loss = 0.02877887, step = 1601 (0.097 sec)\n",
      "INFO:tensorflow:global_step/sec: 1012.8\n",
      "INFO:tensorflow:loss = 0.01516319, step = 1701 (0.099 sec)\n",
      "INFO:tensorflow:global_step/sec: 1066.67\n",
      "INFO:tensorflow:loss = 0.045016192, step = 1801 (0.095 sec)\n",
      "INFO:tensorflow:global_step/sec: 999.048\n",
      "INFO:tensorflow:loss = 0.04311887, step = 1901 (0.100 sec)\n",
      "INFO:tensorflow:global_step/sec: 977.356\n",
      "INFO:tensorflow:loss = 0.030211672, step = 2001 (0.102 sec)\n",
      "INFO:tensorflow:global_step/sec: 945.92\n",
      "INFO:tensorflow:loss = 0.03502087, step = 2101 (0.106 sec)\n",
      "INFO:tensorflow:global_step/sec: 954.918\n",
      "INFO:tensorflow:loss = 0.017016219, step = 2201 (0.104 sec)\n",
      "INFO:tensorflow:global_step/sec: 995.343\n",
      "INFO:tensorflow:loss = 0.008007702, step = 2301 (0.101 sec)\n",
      "INFO:tensorflow:global_step/sec: 945.907\n",
      "INFO:tensorflow:loss = 0.0109447, step = 2401 (0.107 sec)\n",
      "INFO:tensorflow:global_step/sec: 849.725\n",
      "INFO:tensorflow:loss = 0.012059109, step = 2501 (0.117 sec)\n",
      "INFO:tensorflow:global_step/sec: 895.257\n",
      "INFO:tensorflow:loss = 0.022970358, step = 2601 (0.112 sec)\n",
      "INFO:tensorflow:global_step/sec: 1012.8\n",
      "INFO:tensorflow:loss = 0.048819363, step = 2701 (0.099 sec)\n",
      "INFO:tensorflow:global_step/sec: 973.468\n",
      "INFO:tensorflow:loss = 0.029877568, step = 2801 (0.103 sec)\n",
      "INFO:tensorflow:global_step/sec: 903.318\n",
      "INFO:tensorflow:loss = 0.014002652, step = 2901 (0.111 sec)\n",
      "INFO:tensorflow:global_step/sec: 1023.13\n",
      "INFO:tensorflow:loss = 0.0116561055, step = 3001 (0.098 sec)\n",
      "INFO:tensorflow:global_step/sec: 737.253\n",
      "INFO:tensorflow:loss = 0.047692947, step = 3101 (0.135 sec)\n",
      "INFO:tensorflow:global_step/sec: 992.765\n",
      "INFO:tensorflow:loss = 0.011999735, step = 3201 (0.101 sec)\n",
      "INFO:tensorflow:global_step/sec: 947.947\n",
      "INFO:tensorflow:loss = 0.026989944, step = 3301 (0.106 sec)\n",
      "INFO:tensorflow:global_step/sec: 983.205\n",
      "INFO:tensorflow:loss = 0.029619273, step = 3401 (0.102 sec)\n",
      "INFO:tensorflow:global_step/sec: 1066.67\n",
      "INFO:tensorflow:loss = 0.0073956354, step = 3501 (0.094 sec)\n",
      "INFO:tensorflow:global_step/sec: 1093.29\n"
     ]
    },
    {
     "name": "stdout",
     "output_type": "stream",
     "text": [
      "INFO:tensorflow:loss = 0.06332469, step = 3601 (0.090 sec)\n",
      "INFO:tensorflow:global_step/sec: 1060.22\n",
      "INFO:tensorflow:loss = 0.012021942, step = 3701 (0.095 sec)\n",
      "INFO:tensorflow:global_step/sec: 983.012\n",
      "INFO:tensorflow:loss = 0.033820175, step = 3801 (0.101 sec)\n",
      "INFO:tensorflow:global_step/sec: 1012.79\n",
      "INFO:tensorflow:loss = 0.052882582, step = 3901 (0.100 sec)\n",
      "INFO:tensorflow:global_step/sec: 1101.84\n",
      "INFO:tensorflow:loss = 0.023492394, step = 4001 (0.091 sec)\n",
      "INFO:tensorflow:global_step/sec: 903.318\n",
      "INFO:tensorflow:loss = 0.022864996, step = 4101 (0.110 sec)\n",
      "INFO:tensorflow:global_step/sec: 1066.67\n",
      "INFO:tensorflow:loss = 0.015327439, step = 4201 (0.095 sec)\n",
      "INFO:tensorflow:global_step/sec: 937.055\n",
      "INFO:tensorflow:loss = 0.016883362, step = 4301 (0.107 sec)\n",
      "INFO:tensorflow:global_step/sec: 964.13\n",
      "INFO:tensorflow:loss = 0.028564634, step = 4401 (0.103 sec)\n",
      "INFO:tensorflow:global_step/sec: 1114.08\n",
      "INFO:tensorflow:loss = 0.0067045926, step = 4501 (0.091 sec)\n",
      "INFO:tensorflow:global_step/sec: 1089.87\n",
      "INFO:tensorflow:loss = 0.061511297, step = 4601 (0.092 sec)\n",
      "INFO:tensorflow:global_step/sec: 1126.59\n",
      "INFO:tensorflow:loss = 0.037513316, step = 4701 (0.089 sec)\n",
      "INFO:tensorflow:global_step/sec: 1081.43\n",
      "INFO:tensorflow:loss = 0.017243063, step = 4801 (0.092 sec)\n",
      "INFO:tensorflow:global_step/sec: 957.908\n",
      "INFO:tensorflow:loss = 0.0069468454, step = 4901 (0.105 sec)\n",
      "INFO:tensorflow:global_step/sec: 842.583\n",
      "INFO:tensorflow:loss = 0.02021579, step = 5001 (0.118 sec)\n",
      "INFO:tensorflow:global_step/sec: 828.658\n",
      "INFO:tensorflow:loss = 0.039382532, step = 5101 (0.124 sec)\n",
      "INFO:tensorflow:global_step/sec: 816.019\n",
      "INFO:tensorflow:loss = 0.04124202, step = 5201 (0.120 sec)\n",
      "INFO:tensorflow:global_step/sec: 983.334\n",
      "INFO:tensorflow:loss = 0.046670906, step = 5301 (0.103 sec)\n",
      "INFO:tensorflow:global_step/sec: 992.742\n",
      "INFO:tensorflow:loss = 0.015091598, step = 5401 (0.099 sec)\n",
      "INFO:tensorflow:global_step/sec: 1066.69\n",
      "INFO:tensorflow:loss = 0.019966513, step = 5501 (0.095 sec)\n",
      "INFO:tensorflow:global_step/sec: 1126.6\n",
      "INFO:tensorflow:loss = 0.035981625, step = 5601 (0.089 sec)\n",
      "INFO:tensorflow:global_step/sec: 1023.14\n",
      "INFO:tensorflow:loss = 0.028344173, step = 5701 (0.098 sec)\n",
      "INFO:tensorflow:global_step/sec: 1055.44\n",
      "INFO:tensorflow:loss = 0.031276256, step = 5801 (0.095 sec)\n",
      "INFO:tensorflow:global_step/sec: 1126.6\n",
      "INFO:tensorflow:loss = 0.039389282, step = 5901 (0.089 sec)\n",
      "INFO:tensorflow:global_step/sec: 1066.66\n",
      "INFO:tensorflow:loss = 0.009187287, step = 6001 (0.093 sec)\n",
      "INFO:tensorflow:global_step/sec: 1078.14\n",
      "INFO:tensorflow:loss = 0.042935077, step = 6101 (0.094 sec)\n",
      "INFO:tensorflow:global_step/sec: 1044.46\n",
      "INFO:tensorflow:loss = 0.03764253, step = 6201 (0.096 sec)\n",
      "INFO:tensorflow:global_step/sec: 1027.97\n",
      "INFO:tensorflow:loss = 0.00888143, step = 6301 (0.097 sec)\n",
      "INFO:tensorflow:global_step/sec: 987.388\n",
      "INFO:tensorflow:loss = 0.0044398624, step = 6401 (0.101 sec)\n",
      "INFO:tensorflow:global_step/sec: 1101.88\n",
      "INFO:tensorflow:loss = 0.018703032, step = 6501 (0.091 sec)\n",
      "INFO:tensorflow:global_step/sec: 1114.08\n",
      "INFO:tensorflow:loss = 0.033738364, step = 6601 (0.090 sec)\n",
      "INFO:tensorflow:global_step/sec: 1055.45\n",
      "INFO:tensorflow:loss = 0.07484642, step = 6701 (0.095 sec)\n",
      "INFO:tensorflow:global_step/sec: 1116.99\n",
      "INFO:tensorflow:loss = 0.012296209, step = 6801 (0.090 sec)\n",
      "INFO:tensorflow:global_step/sec: 1023.12\n",
      "INFO:tensorflow:loss = 0.033870973, step = 6901 (0.098 sec)\n",
      "INFO:tensorflow:global_step/sec: 1044.46\n",
      "INFO:tensorflow:loss = 0.0060462113, step = 7001 (0.096 sec)\n",
      "INFO:tensorflow:global_step/sec: 1055.44\n",
      "INFO:tensorflow:loss = 0.058500156, step = 7101 (0.095 sec)\n",
      "INFO:tensorflow:global_step/sec: 1066.68\n",
      "INFO:tensorflow:loss = 0.026478026, step = 7201 (0.093 sec)\n",
      "INFO:tensorflow:global_step/sec: 1089.86\n",
      "INFO:tensorflow:loss = 0.008357126, step = 7301 (0.093 sec)\n",
      "INFO:tensorflow:global_step/sec: 1139.4\n",
      "INFO:tensorflow:loss = 0.026726142, step = 7401 (0.088 sec)\n",
      "INFO:tensorflow:global_step/sec: 1023.14\n",
      "INFO:tensorflow:loss = 0.006281076, step = 7501 (0.098 sec)\n",
      "INFO:tensorflow:global_step/sec: 1078.14\n",
      "INFO:tensorflow:loss = 0.061482668, step = 7601 (0.093 sec)\n",
      "INFO:tensorflow:global_step/sec: 1023.14\n",
      "INFO:tensorflow:loss = 0.033559173, step = 7701 (0.098 sec)\n",
      "INFO:tensorflow:global_step/sec: 1114.08\n",
      "INFO:tensorflow:loss = 0.024796467, step = 7801 (0.090 sec)\n",
      "INFO:tensorflow:global_step/sec: 1079.47\n",
      "INFO:tensorflow:loss = 0.010490132, step = 7901 (0.092 sec)\n",
      "INFO:tensorflow:global_step/sec: 1089.86\n",
      "INFO:tensorflow:loss = 0.0087766005, step = 8001 (0.093 sec)\n",
      "INFO:tensorflow:global_step/sec: 1103.17\n",
      "INFO:tensorflow:loss = 0.06522597, step = 8101 (0.091 sec)\n",
      "INFO:tensorflow:global_step/sec: 1055.44\n",
      "INFO:tensorflow:loss = 0.026548441, step = 8201 (0.095 sec)\n",
      "INFO:tensorflow:global_step/sec: 1106.69\n",
      "INFO:tensorflow:loss = 0.021830745, step = 8301 (0.090 sec)\n",
      "INFO:tensorflow:global_step/sec: 1083.62\n",
      "INFO:tensorflow:loss = 0.016834907, step = 8401 (0.092 sec)\n",
      "INFO:tensorflow:global_step/sec: 1071.5\n",
      "INFO:tensorflow:loss = 0.018774886, step = 8501 (0.093 sec)\n",
      "INFO:tensorflow:global_step/sec: 1078.13\n",
      "INFO:tensorflow:loss = 0.021941315, step = 8601 (0.093 sec)\n",
      "INFO:tensorflow:global_step/sec: 992.763\n",
      "INFO:tensorflow:loss = 0.028566713, step = 8701 (0.101 sec)\n",
      "INFO:tensorflow:global_step/sec: 1066.67\n",
      "INFO:tensorflow:loss = 0.009503404, step = 8801 (0.094 sec)\n",
      "INFO:tensorflow:global_step/sec: 973.468\n",
      "INFO:tensorflow:loss = 0.008787041, step = 8901 (0.103 sec)\n",
      "INFO:tensorflow:global_step/sec: 1055.45\n",
      "INFO:tensorflow:loss = 0.0035594623, step = 9001 (0.094 sec)\n",
      "INFO:tensorflow:global_step/sec: 983.005\n",
      "INFO:tensorflow:loss = 0.04102221, step = 9101 (0.102 sec)\n",
      "INFO:tensorflow:global_step/sec: 945.931\n",
      "INFO:tensorflow:loss = 0.020314123, step = 9201 (0.107 sec)\n",
      "INFO:tensorflow:global_step/sec: 1033.68\n",
      "INFO:tensorflow:loss = 0.027161695, step = 9301 (0.097 sec)\n",
      "INFO:tensorflow:global_step/sec: 973.47\n",
      "INFO:tensorflow:loss = 0.017518554, step = 9401 (0.103 sec)\n",
      "INFO:tensorflow:global_step/sec: 1066.67\n",
      "INFO:tensorflow:loss = 0.028037496, step = 9501 (0.093 sec)\n",
      "INFO:tensorflow:global_step/sec: 973.529\n",
      "INFO:tensorflow:loss = 0.0556456, step = 9601 (0.103 sec)\n",
      "INFO:tensorflow:global_step/sec: 1089.87\n",
      "INFO:tensorflow:loss = 0.030142631, step = 9701 (0.093 sec)\n",
      "INFO:tensorflow:global_step/sec: 1078.13\n",
      "INFO:tensorflow:loss = 0.021520875, step = 9801 (0.093 sec)\n",
      "INFO:tensorflow:global_step/sec: 1075.5\n",
      "INFO:tensorflow:loss = 0.053651743, step = 9901 (0.093 sec)\n",
      "INFO:tensorflow:Saving checkpoints for 10000 into C:\\Users\\danca\\AppData\\Local\\Temp\\tmpz9bjgmsj\\model.ckpt.\n",
      "INFO:tensorflow:Loss for final step: 0.014660404.\n"
     ]
    },
    {
     "data": {
      "text/plain": [
       "<tensorflow_estimator.python.estimator.canned.linear.LinearRegressor at 0x163cc3273c8>"
      ]
     },
     "execution_count": 16,
     "metadata": {},
     "output_type": "execute_result"
    }
   ],
   "source": [
    "regressor.train(input_fn=treinamento,steps=10000)"
   ]
  },
  {
   "cell_type": "code",
   "execution_count": 17,
   "metadata": {},
   "outputs": [
    {
     "name": "stdout",
     "output_type": "stream",
     "text": [
      "INFO:tensorflow:Calling model_fn.\n",
      "WARNING:tensorflow:Entity <bound method LinearModel.call of <tensorflow.python.feature_column.feature_column_v2.LinearModel object at 0x00000163CD91FE48>> could not be transformed and will be executed as-is. Please report this to the AutgoGraph team. When filing the bug, set the verbosity to 10 (on Linux, `export AUTOGRAPH_VERBOSITY=10`) and attach the full output. Cause: converting <bound method LinearModel.call of <tensorflow.python.feature_column.feature_column_v2.LinearModel object at 0x00000163CD91FE48>>: AssertionError: Bad argument number for Name: 3, expecting 4\n",
      "WARNING: Entity <bound method LinearModel.call of <tensorflow.python.feature_column.feature_column_v2.LinearModel object at 0x00000163CD91FE48>> could not be transformed and will be executed as-is. Please report this to the AutgoGraph team. When filing the bug, set the verbosity to 10 (on Linux, `export AUTOGRAPH_VERBOSITY=10`) and attach the full output. Cause: converting <bound method LinearModel.call of <tensorflow.python.feature_column.feature_column_v2.LinearModel object at 0x00000163CD91FE48>>: AssertionError: Bad argument number for Name: 3, expecting 4\n",
      "WARNING:tensorflow:Entity <bound method _LinearModelLayer.call of <tensorflow.python.feature_column.feature_column_v2._LinearModelLayer object at 0x00000163CE3BDF88>> could not be transformed and will be executed as-is. Please report this to the AutgoGraph team. When filing the bug, set the verbosity to 10 (on Linux, `export AUTOGRAPH_VERBOSITY=10`) and attach the full output. Cause: converting <bound method _LinearModelLayer.call of <tensorflow.python.feature_column.feature_column_v2._LinearModelLayer object at 0x00000163CE3BDF88>>: AssertionError: Bad argument number for Name: 3, expecting 4\n",
      "WARNING: Entity <bound method _LinearModelLayer.call of <tensorflow.python.feature_column.feature_column_v2._LinearModelLayer object at 0x00000163CE3BDF88>> could not be transformed and will be executed as-is. Please report this to the AutgoGraph team. When filing the bug, set the verbosity to 10 (on Linux, `export AUTOGRAPH_VERBOSITY=10`) and attach the full output. Cause: converting <bound method _LinearModelLayer.call of <tensorflow.python.feature_column.feature_column_v2._LinearModelLayer object at 0x00000163CE3BDF88>>: AssertionError: Bad argument number for Name: 3, expecting 4\n",
      "INFO:tensorflow:Done calling model_fn.\n",
      "INFO:tensorflow:Starting evaluation at 2020-08-03T16:47:55Z\n",
      "INFO:tensorflow:Graph was finalized.\n",
      "WARNING:tensorflow:From D:\\Python\\lib\\site-packages\\tensorflow\\python\\training\\saver.py:1276: checkpoint_exists (from tensorflow.python.training.checkpoint_management) is deprecated and will be removed in a future version.\n",
      "Instructions for updating:\n",
      "Use standard file APIs to check for files with this prefix.\n",
      "INFO:tensorflow:Restoring parameters from C:\\Users\\danca\\AppData\\Local\\Temp\\tmpz9bjgmsj\\model.ckpt-10000\n",
      "INFO:tensorflow:Running local_init_op.\n",
      "INFO:tensorflow:Done running local_init_op.\n",
      "INFO:tensorflow:Evaluation [1000/10000]\n",
      "INFO:tensorflow:Evaluation [2000/10000]\n",
      "INFO:tensorflow:Evaluation [3000/10000]\n",
      "INFO:tensorflow:Evaluation [4000/10000]\n",
      "INFO:tensorflow:Evaluation [5000/10000]\n",
      "INFO:tensorflow:Evaluation [6000/10000]\n",
      "INFO:tensorflow:Evaluation [7000/10000]\n",
      "INFO:tensorflow:Evaluation [8000/10000]\n",
      "INFO:tensorflow:Evaluation [9000/10000]\n",
      "INFO:tensorflow:Evaluation [10000/10000]\n",
      "INFO:tensorflow:Finished evaluation at 2020-08-03-16:48:03\n",
      "INFO:tensorflow:Saving dict for global step 10000: average_loss = 0.00021551814, global_step = 10000, label/mean = 0.096055195, loss = 0.027586322, prediction/mean = 0.094874375\n",
      "INFO:tensorflow:Saving 'checkpoint_path' summary for global step 10000: C:\\Users\\danca\\AppData\\Local\\Temp\\tmpz9bjgmsj\\model.ckpt-10000\n"
     ]
    }
   ],
   "source": [
    "metricas_treinamento = regressor.evaluate(input_fn=treinamento,steps=10000)"
   ]
  },
  {
   "cell_type": "code",
   "execution_count": 18,
   "metadata": {},
   "outputs": [
    {
     "name": "stdout",
     "output_type": "stream",
     "text": [
      "INFO:tensorflow:Calling model_fn.\n",
      "WARNING:tensorflow:Entity <bound method LinearModel.call of <tensorflow.python.feature_column.feature_column_v2.LinearModel object at 0x00000163CD4FB488>> could not be transformed and will be executed as-is. Please report this to the AutgoGraph team. When filing the bug, set the verbosity to 10 (on Linux, `export AUTOGRAPH_VERBOSITY=10`) and attach the full output. Cause: converting <bound method LinearModel.call of <tensorflow.python.feature_column.feature_column_v2.LinearModel object at 0x00000163CD4FB488>>: AssertionError: Bad argument number for Name: 3, expecting 4\n",
      "WARNING: Entity <bound method LinearModel.call of <tensorflow.python.feature_column.feature_column_v2.LinearModel object at 0x00000163CD4FB488>> could not be transformed and will be executed as-is. Please report this to the AutgoGraph team. When filing the bug, set the verbosity to 10 (on Linux, `export AUTOGRAPH_VERBOSITY=10`) and attach the full output. Cause: converting <bound method LinearModel.call of <tensorflow.python.feature_column.feature_column_v2.LinearModel object at 0x00000163CD4FB488>>: AssertionError: Bad argument number for Name: 3, expecting 4\n",
      "WARNING:tensorflow:Entity <bound method _LinearModelLayer.call of <tensorflow.python.feature_column.feature_column_v2._LinearModelLayer object at 0x00000163CE6D5E08>> could not be transformed and will be executed as-is. Please report this to the AutgoGraph team. When filing the bug, set the verbosity to 10 (on Linux, `export AUTOGRAPH_VERBOSITY=10`) and attach the full output. Cause: converting <bound method _LinearModelLayer.call of <tensorflow.python.feature_column.feature_column_v2._LinearModelLayer object at 0x00000163CE6D5E08>>: AssertionError: Bad argument number for Name: 3, expecting 4\n",
      "WARNING: Entity <bound method _LinearModelLayer.call of <tensorflow.python.feature_column.feature_column_v2._LinearModelLayer object at 0x00000163CE6D5E08>> could not be transformed and will be executed as-is. Please report this to the AutgoGraph team. When filing the bug, set the verbosity to 10 (on Linux, `export AUTOGRAPH_VERBOSITY=10`) and attach the full output. Cause: converting <bound method _LinearModelLayer.call of <tensorflow.python.feature_column.feature_column_v2._LinearModelLayer object at 0x00000163CE6D5E08>>: AssertionError: Bad argument number for Name: 3, expecting 4\n",
      "INFO:tensorflow:Done calling model_fn.\n",
      "INFO:tensorflow:Starting evaluation at 2020-08-03T16:48:04Z\n",
      "INFO:tensorflow:Graph was finalized.\n",
      "INFO:tensorflow:Restoring parameters from C:\\Users\\danca\\AppData\\Local\\Temp\\tmpz9bjgmsj\\model.ckpt-10000\n",
      "INFO:tensorflow:Running local_init_op.\n",
      "INFO:tensorflow:Done running local_init_op.\n",
      "INFO:tensorflow:Evaluation [1000/10000]\n",
      "INFO:tensorflow:Evaluation [2000/10000]\n",
      "INFO:tensorflow:Evaluation [3000/10000]\n",
      "INFO:tensorflow:Evaluation [4000/10000]\n",
      "INFO:tensorflow:Finished evaluation at 2020-08-03-16:48:08\n",
      "INFO:tensorflow:Saving dict for global step 10000: average_loss = 0.00024557894, global_step = 10000, label/mean = 0.34950018, loss = 0.03143142, prediction/mean = 0.3480552\n",
      "INFO:tensorflow:Saving 'checkpoint_path' summary for global step 10000: C:\\Users\\danca\\AppData\\Local\\Temp\\tmpz9bjgmsj\\model.ckpt-10000\n"
     ]
    }
   ],
   "source": [
    "metricas_teste = regressor.evaluate(input_fn=teste,steps=10000)"
   ]
  },
  {
   "cell_type": "code",
   "execution_count": 19,
   "metadata": {},
   "outputs": [
    {
     "data": {
      "text/plain": [
       "{'average_loss': 0.00021551814,\n",
       " 'label/mean': 0.096055195,\n",
       " 'loss': 0.027586322,\n",
       " 'prediction/mean': 0.094874375,\n",
       " 'global_step': 10000}"
      ]
     },
     "execution_count": 19,
     "metadata": {},
     "output_type": "execute_result"
    }
   ],
   "source": [
    "metricas_treinamento"
   ]
  },
  {
   "cell_type": "code",
   "execution_count": 20,
   "metadata": {},
   "outputs": [
    {
     "data": {
      "text/plain": [
       "{'average_loss': 0.00024557894,\n",
       " 'label/mean': 0.34950018,\n",
       " 'loss': 0.03143142,\n",
       " 'prediction/mean': 0.3480552,\n",
       " 'global_step': 10000}"
      ]
     },
     "execution_count": 20,
     "metadata": {},
     "output_type": "execute_result"
    }
   ],
   "source": [
    "metricas_teste"
   ]
  },
  {
   "cell_type": "code",
   "execution_count": 21,
   "metadata": {},
   "outputs": [],
   "source": [
    "funcao_previsao = tf.estimator.inputs.numpy_input_fn({'x':test},shuffle=False)"
   ]
  },
  {
   "cell_type": "code",
   "execution_count": 22,
   "metadata": {},
   "outputs": [],
   "source": [
    "predicao = regressor.predict(input_fn=funcao_previsao)\n",
    "result = []"
   ]
  },
  {
   "cell_type": "code",
   "execution_count": 23,
   "metadata": {},
   "outputs": [
    {
     "name": "stdout",
     "output_type": "stream",
     "text": [
      "INFO:tensorflow:Calling model_fn.\n",
      "WARNING:tensorflow:Entity <bound method LinearModel.call of <tensorflow.python.feature_column.feature_column_v2.LinearModel object at 0x00000163CE6BD648>> could not be transformed and will be executed as-is. Please report this to the AutgoGraph team. When filing the bug, set the verbosity to 10 (on Linux, `export AUTOGRAPH_VERBOSITY=10`) and attach the full output. Cause: converting <bound method LinearModel.call of <tensorflow.python.feature_column.feature_column_v2.LinearModel object at 0x00000163CE6BD648>>: AssertionError: Bad argument number for Name: 3, expecting 4\n",
      "WARNING: Entity <bound method LinearModel.call of <tensorflow.python.feature_column.feature_column_v2.LinearModel object at 0x00000163CE6BD648>> could not be transformed and will be executed as-is. Please report this to the AutgoGraph team. When filing the bug, set the verbosity to 10 (on Linux, `export AUTOGRAPH_VERBOSITY=10`) and attach the full output. Cause: converting <bound method LinearModel.call of <tensorflow.python.feature_column.feature_column_v2.LinearModel object at 0x00000163CE6BD648>>: AssertionError: Bad argument number for Name: 3, expecting 4\n",
      "WARNING:tensorflow:Entity <bound method _LinearModelLayer.call of <tensorflow.python.feature_column.feature_column_v2._LinearModelLayer object at 0x00000163CD8D3DC8>> could not be transformed and will be executed as-is. Please report this to the AutgoGraph team. When filing the bug, set the verbosity to 10 (on Linux, `export AUTOGRAPH_VERBOSITY=10`) and attach the full output. Cause: converting <bound method _LinearModelLayer.call of <tensorflow.python.feature_column.feature_column_v2._LinearModelLayer object at 0x00000163CD8D3DC8>>: AssertionError: Bad argument number for Name: 3, expecting 4\n",
      "WARNING: Entity <bound method _LinearModelLayer.call of <tensorflow.python.feature_column.feature_column_v2._LinearModelLayer object at 0x00000163CD8D3DC8>> could not be transformed and will be executed as-is. Please report this to the AutgoGraph team. When filing the bug, set the verbosity to 10 (on Linux, `export AUTOGRAPH_VERBOSITY=10`) and attach the full output. Cause: converting <bound method _LinearModelLayer.call of <tensorflow.python.feature_column.feature_column_v2._LinearModelLayer object at 0x00000163CD8D3DC8>>: AssertionError: Bad argument number for Name: 3, expecting 4\n",
      "INFO:tensorflow:Done calling model_fn.\n",
      "INFO:tensorflow:Graph was finalized.\n",
      "INFO:tensorflow:Restoring parameters from C:\\Users\\danca\\AppData\\Local\\Temp\\tmpz9bjgmsj\\model.ckpt-10000\n",
      "INFO:tensorflow:Running local_init_op.\n",
      "INFO:tensorflow:Done running local_init_op.\n"
     ]
    }
   ],
   "source": [
    "for p in regressor.predict(input_fn= funcao_previsao):\n",
    "    resultado = p['predictions'][0]\n",
    "    result.append(resultado)\n",
    "    "
   ]
  },
  {
   "cell_type": "code",
   "execution_count": 24,
   "metadata": {},
   "outputs": [],
   "source": [
    "testando = np.asarray(result)"
   ]
  },
  {
   "cell_type": "code",
   "execution_count": 25,
   "metadata": {},
   "outputs": [],
   "source": [
    "testando = np.reshape(testando,(564,1))\n",
    "testY = np.reshape(testY,(562,1))\n",
    "testando = scaler.inverse_transform(testando)\n",
    "testY = scaler.inverse_transform(testY)"
   ]
  },
  {
   "cell_type": "code",
   "execution_count": 26,
   "metadata": {},
   "outputs": [],
   "source": [
    "def mean_absolute_percentage_error(y_true, y_pred): \n",
    "    \"\"\"Calculates MAPE given y_true and y_pred\"\"\"\n",
    "    y_true, y_pred = np.array(y_true), np.array(y_pred)\n",
    "    return np.mean(np.abs((y_true - y_pred) / y_true)) * 100"
   ]
  },
  {
   "cell_type": "code",
   "execution_count": 27,
   "metadata": {},
   "outputs": [],
   "source": [
    "resultador = pd.DataFrame(testY,columns=['Esperado'])\n",
    "resultador['Predito'] = testando[:-2]\n",
    "resultador.index = data.tail(562).index"
   ]
  },
  {
   "cell_type": "code",
   "execution_count": 28,
   "metadata": {
    "scrolled": true
   },
   "outputs": [
    {
     "name": "stdout",
     "output_type": "stream",
     "text": [
      "Regressao Linear\n",
      "MAPE: 97.384\n",
      "Desvio: 2.616\n",
      "MSE: 91659.000\n",
      "RMSE: 302.752\n",
      "MAE: 194.094\n",
      "MSLE: 0.001\n",
      "R2 score: 98.366\n",
      "Explaine Variance Score: 98.380\n"
     ]
    },
    {
     "data": {
      "image/png": "[encoded data removed]",
      "text/plain": [
       "<Figure size 432x288 with 1 Axes>"
      ]
     },
     "metadata": {
      "needs_background": "light"
     },
     "output_type": "display_data"
    }
   ],
   "source": [
    "print('Regressao Linear')\n",
    "print(\"MAPE: %.3f\"%(100-mean_absolute_percentage_error(testY,testando[:-2])))\n",
    "print(\"Desvio: %.3f\"%mean_absolute_percentage_error(testY,testando[:-2]))\n",
    "print(\"MSE: %.3f\"%mean_squared_error(testY,testando[:-2]))\n",
    "print(\"RMSE: %.3f\"%sqrt(mean_squared_error(testY,testando[:-2])))\n",
    "print(\"MAE: %.3f\"%mean_absolute_error(testY,testando[:-2]))\n",
    "print(\"MSLE: %.3f\"%mean_squared_log_error(testY,testando[:-2]))\n",
    "print(\"R2 score: %.3f\"%(r2_score(testY,testando[:-2])*100))\n",
    "print(\"Explaine Variance Score: %.3f\"%(explained_variance_score(testY,testando[:-2])*100))\n",
    "resultador.plot()\n",
    "plt.xticks(rotation=20)\n",
    "plt.title('Regressão Linear')\n",
    "plt.savefig('RLI_teste.png')"
   ]
  },
  {
   "cell_type": "code",
   "execution_count": 29,
   "metadata": {},
   "outputs": [],
   "source": [
    "entrada = np.array([[7463.11,7761.24,7569.63]])\n",
    "fechamentohoje = [7424.29]"
   ]
  },
  {
   "cell_type": "code",
   "execution_count": 30,
   "metadata": {},
   "outputs": [],
   "source": [
    "funcao_previsao = tf.estimator.inputs.numpy_input_fn({'x':entrada},shuffle=False)"
   ]
  },
  {
   "cell_type": "code",
   "execution_count": 33,
   "metadata": {},
   "outputs": [
    {
     "name": "stdout",
     "output_type": "stream",
     "text": [
      "MAPE: 58.103\n",
      "Desvio: 41.897\n",
      "RMSE: 3110.536\n",
      "Fechamento [7424.29]\n",
      "Predito [[10534.826]]\n"
     ]
    },
    {
     "data": {
      "text/plain": [
       "Text(0.5, 1.0, 'Comparação do FechamentoXPredição')"
      ]
     },
     "execution_count": 33,
     "metadata": {},
     "output_type": "execute_result"
    },
    {
     "data": {
      "image/png": "[encoded data removed]",
      "text/plain": [
       "<Figure size 432x288 with 1 Axes>"
      ]
     },
     "metadata": {
      "needs_background": "light"
     },
     "output_type": "display_data"
    }
   ],
   "source": [
    "predicaohoje = regressor.predict(input_fn=funcao_previsao)\n",
    "resultado = p['predictions'][0]\n",
    "resultado = np.reshape(resultado,(1,1))\n",
    "resultado = scaler.inverse_transform(resultado)\n",
    "print(\"MAPE: %.3f\"%(100-mean_absolute_percentage_error(fechamentohoje,resultado)))\n",
    "print(\"Desvio: %.3f\"%mean_absolute_percentage_error(fechamentohoje,resultado))\n",
    "print(\"RMSE: %.3f\"%sqrt(mean_squared_error(fechamentohoje,resultado)))\n",
    "print(\"Fechamento %s\"%fechamentohoje)\n",
    "print(\"Predito %s\"%resultado)\n",
    "\n",
    "vetorgrafico = { \"Predição\": resultado , \"Fechamento hoje\": fechamentohoje[0]}\n",
    "colunas = [i for i in vetorgrafico.keys()]\n",
    "valor = [j for j in vetorgrafico.values()]\n",
    "popPos = np.arange(len(colunas))\n",
    "plt.barh(popPos, valor, align='center', color='blue')\n",
    "plt.yticks(popPos, colunas)\n",
    "plt.xlabel('Valores')\n",
    "plt.title('Comparação do FechamentoXPredição')"
   ]
  },
  {
   "cell_type": "code",
   "execution_count": null,
   "metadata": {},
   "outputs": [],
   "source": []
  }
 ],
 "metadata": {
  "kernelspec": {
   "display_name": "Python 3",
   "language": "python",
   "name": "python3"
  },
  "language_info": {
   "codemirror_mode": {
    "name": "ipython",
    "version": 3
   },
   "file_extension": ".py",
   "mimetype": "text/x-python",
   "name": "python",
   "nbconvert_exporter": "python",
   "pygments_lexer": "ipython3",
   "version": "3.7.6"
  }
 },
 "nbformat": 4,
 "nbformat_minor": 2
}
